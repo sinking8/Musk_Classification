{
 "cells": [
  {
   "cell_type": "code",
   "execution_count": 1,
   "metadata": {},
   "outputs": [],
   "source": [
    "import pandas as pd\n",
    "import numpy as np\n",
    "import matplotlib.pyplot as plt\n",
    "import seaborn as sns"
   ]
  },
  {
   "cell_type": "code",
   "execution_count": 2,
   "metadata": {},
   "outputs": [],
   "source": [
    "df = pd.read_csv('musk_csv.csv')"
   ]
  },
  {
   "cell_type": "code",
   "execution_count": 3,
   "metadata": {},
   "outputs": [
    {
     "data": {
      "text/html": [
       "<div>\n",
       "<style scoped>\n",
       "    .dataframe tbody tr th:only-of-type {\n",
       "        vertical-align: middle;\n",
       "    }\n",
       "\n",
       "    .dataframe tbody tr th {\n",
       "        vertical-align: top;\n",
       "    }\n",
       "\n",
       "    .dataframe thead th {\n",
       "        text-align: right;\n",
       "    }\n",
       "</style>\n",
       "<table border=\"1\" class=\"dataframe\">\n",
       "  <thead>\n",
       "    <tr style=\"text-align: right;\">\n",
       "      <th></th>\n",
       "      <th>ID</th>\n",
       "      <th>molecule_name</th>\n",
       "      <th>conformation_name</th>\n",
       "      <th>f1</th>\n",
       "      <th>f2</th>\n",
       "      <th>f3</th>\n",
       "      <th>f4</th>\n",
       "      <th>f5</th>\n",
       "      <th>f6</th>\n",
       "      <th>f7</th>\n",
       "      <th>...</th>\n",
       "      <th>f158</th>\n",
       "      <th>f159</th>\n",
       "      <th>f160</th>\n",
       "      <th>f161</th>\n",
       "      <th>f162</th>\n",
       "      <th>f163</th>\n",
       "      <th>f164</th>\n",
       "      <th>f165</th>\n",
       "      <th>f166</th>\n",
       "      <th>class</th>\n",
       "    </tr>\n",
       "  </thead>\n",
       "  <tbody>\n",
       "    <tr>\n",
       "      <th>0</th>\n",
       "      <td>1</td>\n",
       "      <td>MUSK-211</td>\n",
       "      <td>211_1+1</td>\n",
       "      <td>46</td>\n",
       "      <td>-108</td>\n",
       "      <td>-60</td>\n",
       "      <td>-69</td>\n",
       "      <td>-117</td>\n",
       "      <td>49</td>\n",
       "      <td>38</td>\n",
       "      <td>...</td>\n",
       "      <td>-308</td>\n",
       "      <td>52</td>\n",
       "      <td>-7</td>\n",
       "      <td>39</td>\n",
       "      <td>126</td>\n",
       "      <td>156</td>\n",
       "      <td>-50</td>\n",
       "      <td>-112</td>\n",
       "      <td>96</td>\n",
       "      <td>1</td>\n",
       "    </tr>\n",
       "    <tr>\n",
       "      <th>1</th>\n",
       "      <td>2</td>\n",
       "      <td>MUSK-211</td>\n",
       "      <td>211_1+10</td>\n",
       "      <td>41</td>\n",
       "      <td>-188</td>\n",
       "      <td>-145</td>\n",
       "      <td>22</td>\n",
       "      <td>-117</td>\n",
       "      <td>-6</td>\n",
       "      <td>57</td>\n",
       "      <td>...</td>\n",
       "      <td>-59</td>\n",
       "      <td>-2</td>\n",
       "      <td>52</td>\n",
       "      <td>103</td>\n",
       "      <td>136</td>\n",
       "      <td>169</td>\n",
       "      <td>-61</td>\n",
       "      <td>-136</td>\n",
       "      <td>79</td>\n",
       "      <td>1</td>\n",
       "    </tr>\n",
       "    <tr>\n",
       "      <th>2</th>\n",
       "      <td>3</td>\n",
       "      <td>MUSK-211</td>\n",
       "      <td>211_1+11</td>\n",
       "      <td>46</td>\n",
       "      <td>-194</td>\n",
       "      <td>-145</td>\n",
       "      <td>28</td>\n",
       "      <td>-117</td>\n",
       "      <td>73</td>\n",
       "      <td>57</td>\n",
       "      <td>...</td>\n",
       "      <td>-134</td>\n",
       "      <td>-154</td>\n",
       "      <td>57</td>\n",
       "      <td>143</td>\n",
       "      <td>142</td>\n",
       "      <td>165</td>\n",
       "      <td>-67</td>\n",
       "      <td>-145</td>\n",
       "      <td>39</td>\n",
       "      <td>1</td>\n",
       "    </tr>\n",
       "  </tbody>\n",
       "</table>\n",
       "<p>3 rows × 170 columns</p>\n",
       "</div>"
      ],
      "text/plain": [
       "   ID molecule_name conformation_name  f1   f2   f3  f4   f5  f6  f7  ...  \\\n",
       "0   1      MUSK-211           211_1+1  46 -108  -60 -69 -117  49  38  ...   \n",
       "1   2      MUSK-211          211_1+10  41 -188 -145  22 -117  -6  57  ...   \n",
       "2   3      MUSK-211          211_1+11  46 -194 -145  28 -117  73  57  ...   \n",
       "\n",
       "   f158  f159  f160  f161  f162  f163  f164  f165  f166  class  \n",
       "0  -308    52    -7    39   126   156   -50  -112    96      1  \n",
       "1   -59    -2    52   103   136   169   -61  -136    79      1  \n",
       "2  -134  -154    57   143   142   165   -67  -145    39      1  \n",
       "\n",
       "[3 rows x 170 columns]"
      ]
     },
     "execution_count": 3,
     "metadata": {},
     "output_type": "execute_result"
    }
   ],
   "source": [
    "df.head(3)"
   ]
  },
  {
   "cell_type": "code",
   "execution_count": 4,
   "metadata": {},
   "outputs": [
    {
     "data": {
      "text/html": [
       "<div>\n",
       "<style scoped>\n",
       "    .dataframe tbody tr th:only-of-type {\n",
       "        vertical-align: middle;\n",
       "    }\n",
       "\n",
       "    .dataframe tbody tr th {\n",
       "        vertical-align: top;\n",
       "    }\n",
       "\n",
       "    .dataframe thead th {\n",
       "        text-align: right;\n",
       "    }\n",
       "</style>\n",
       "<table border=\"1\" class=\"dataframe\">\n",
       "  <thead>\n",
       "    <tr style=\"text-align: right;\">\n",
       "      <th></th>\n",
       "      <th>count</th>\n",
       "      <th>mean</th>\n",
       "      <th>std</th>\n",
       "      <th>min</th>\n",
       "      <th>25%</th>\n",
       "      <th>50%</th>\n",
       "      <th>75%</th>\n",
       "      <th>max</th>\n",
       "    </tr>\n",
       "  </thead>\n",
       "  <tbody>\n",
       "    <tr>\n",
       "      <th>ID</th>\n",
       "      <td>6598.0</td>\n",
       "      <td>3299.500000</td>\n",
       "      <td>1904.822870</td>\n",
       "      <td>1.0</td>\n",
       "      <td>1650.25</td>\n",
       "      <td>3299.5</td>\n",
       "      <td>4948.75</td>\n",
       "      <td>6598.0</td>\n",
       "    </tr>\n",
       "    <tr>\n",
       "      <th>f1</th>\n",
       "      <td>6598.0</td>\n",
       "      <td>58.945135</td>\n",
       "      <td>53.249007</td>\n",
       "      <td>-31.0</td>\n",
       "      <td>37.00</td>\n",
       "      <td>44.0</td>\n",
       "      <td>53.00</td>\n",
       "      <td>292.0</td>\n",
       "    </tr>\n",
       "    <tr>\n",
       "      <th>f2</th>\n",
       "      <td>6598.0</td>\n",
       "      <td>-119.128524</td>\n",
       "      <td>90.813375</td>\n",
       "      <td>-199.0</td>\n",
       "      <td>-193.00</td>\n",
       "      <td>-149.0</td>\n",
       "      <td>-95.00</td>\n",
       "      <td>95.0</td>\n",
       "    </tr>\n",
       "    <tr>\n",
       "      <th>f3</th>\n",
       "      <td>6598.0</td>\n",
       "      <td>-73.146560</td>\n",
       "      <td>67.956235</td>\n",
       "      <td>-167.0</td>\n",
       "      <td>-137.00</td>\n",
       "      <td>-99.0</td>\n",
       "      <td>-19.00</td>\n",
       "      <td>81.0</td>\n",
       "    </tr>\n",
       "    <tr>\n",
       "      <th>f4</th>\n",
       "      <td>6598.0</td>\n",
       "      <td>-0.628372</td>\n",
       "      <td>80.444617</td>\n",
       "      <td>-114.0</td>\n",
       "      <td>-70.00</td>\n",
       "      <td>-25.0</td>\n",
       "      <td>42.00</td>\n",
       "      <td>161.0</td>\n",
       "    </tr>\n",
       "    <tr>\n",
       "      <th>...</th>\n",
       "      <td>...</td>\n",
       "      <td>...</td>\n",
       "      <td>...</td>\n",
       "      <td>...</td>\n",
       "      <td>...</td>\n",
       "      <td>...</td>\n",
       "      <td>...</td>\n",
       "      <td>...</td>\n",
       "    </tr>\n",
       "    <tr>\n",
       "      <th>f163</th>\n",
       "      <td>6598.0</td>\n",
       "      <td>201.760230</td>\n",
       "      <td>59.526751</td>\n",
       "      <td>73.0</td>\n",
       "      <td>166.00</td>\n",
       "      <td>191.0</td>\n",
       "      <td>215.00</td>\n",
       "      <td>625.0</td>\n",
       "    </tr>\n",
       "    <tr>\n",
       "      <th>f164</th>\n",
       "      <td>6598.0</td>\n",
       "      <td>-47.488330</td>\n",
       "      <td>55.069365</td>\n",
       "      <td>-289.0</td>\n",
       "      <td>-68.00</td>\n",
       "      <td>-60.0</td>\n",
       "      <td>-45.00</td>\n",
       "      <td>295.0</td>\n",
       "    </tr>\n",
       "    <tr>\n",
       "      <th>f165</th>\n",
       "      <td>6598.0</td>\n",
       "      <td>-150.259927</td>\n",
       "      <td>76.019023</td>\n",
       "      <td>-428.0</td>\n",
       "      <td>-179.00</td>\n",
       "      <td>-150.0</td>\n",
       "      <td>-120.00</td>\n",
       "      <td>168.0</td>\n",
       "    </tr>\n",
       "    <tr>\n",
       "      <th>f166</th>\n",
       "      <td>6598.0</td>\n",
       "      <td>41.770233</td>\n",
       "      <td>94.116085</td>\n",
       "      <td>-471.0</td>\n",
       "      <td>-9.00</td>\n",
       "      <td>27.0</td>\n",
       "      <td>119.00</td>\n",
       "      <td>367.0</td>\n",
       "    </tr>\n",
       "    <tr>\n",
       "      <th>class</th>\n",
       "      <td>6598.0</td>\n",
       "      <td>0.154138</td>\n",
       "      <td>0.361108</td>\n",
       "      <td>0.0</td>\n",
       "      <td>0.00</td>\n",
       "      <td>0.0</td>\n",
       "      <td>0.00</td>\n",
       "      <td>1.0</td>\n",
       "    </tr>\n",
       "  </tbody>\n",
       "</table>\n",
       "<p>168 rows × 8 columns</p>\n",
       "</div>"
      ],
      "text/plain": [
       "        count         mean          std    min      25%     50%      75%  \\\n",
       "ID     6598.0  3299.500000  1904.822870    1.0  1650.25  3299.5  4948.75   \n",
       "f1     6598.0    58.945135    53.249007  -31.0    37.00    44.0    53.00   \n",
       "f2     6598.0  -119.128524    90.813375 -199.0  -193.00  -149.0   -95.00   \n",
       "f3     6598.0   -73.146560    67.956235 -167.0  -137.00   -99.0   -19.00   \n",
       "f4     6598.0    -0.628372    80.444617 -114.0   -70.00   -25.0    42.00   \n",
       "...       ...          ...          ...    ...      ...     ...      ...   \n",
       "f163   6598.0   201.760230    59.526751   73.0   166.00   191.0   215.00   \n",
       "f164   6598.0   -47.488330    55.069365 -289.0   -68.00   -60.0   -45.00   \n",
       "f165   6598.0  -150.259927    76.019023 -428.0  -179.00  -150.0  -120.00   \n",
       "f166   6598.0    41.770233    94.116085 -471.0    -9.00    27.0   119.00   \n",
       "class  6598.0     0.154138     0.361108    0.0     0.00     0.0     0.00   \n",
       "\n",
       "          max  \n",
       "ID     6598.0  \n",
       "f1      292.0  \n",
       "f2       95.0  \n",
       "f3       81.0  \n",
       "f4      161.0  \n",
       "...       ...  \n",
       "f163    625.0  \n",
       "f164    295.0  \n",
       "f165    168.0  \n",
       "f166    367.0  \n",
       "class     1.0  \n",
       "\n",
       "[168 rows x 8 columns]"
      ]
     },
     "execution_count": 4,
     "metadata": {},
     "output_type": "execute_result"
    }
   ],
   "source": [
    "df.describe().transpose()"
   ]
  },
  {
   "cell_type": "code",
   "execution_count": 5,
   "metadata": {},
   "outputs": [
    {
     "name": "stdout",
     "output_type": "stream",
     "text": [
      "<class 'pandas.core.frame.DataFrame'>\n",
      "RangeIndex: 6598 entries, 0 to 6597\n",
      "Columns: 170 entries, ID to class\n",
      "dtypes: int64(168), object(2)\n",
      "memory usage: 8.6+ MB\n"
     ]
    }
   ],
   "source": [
    "df.info()"
   ]
  },
  {
   "cell_type": "code",
   "execution_count": 6,
   "metadata": {},
   "outputs": [
    {
     "data": {
      "text/plain": [
       "170"
      ]
     },
     "execution_count": 6,
     "metadata": {},
     "output_type": "execute_result"
    }
   ],
   "source": [
    "len(df.columns)"
   ]
  },
  {
   "cell_type": "code",
   "execution_count": 7,
   "metadata": {},
   "outputs": [
    {
     "name": "stdout",
     "output_type": "stream",
     "text": [
      "Unique Molecule Names : 102\n",
      "Unique conformation_names : 6598\n"
     ]
    }
   ],
   "source": [
    "print(\"Unique Molecule Names :\",len(df['molecule_name'].unique()))\n",
    "print(\"Unique conformation_names :\",len(df['conformation_name'].unique()))"
   ]
  },
  {
   "cell_type": "code",
   "execution_count": 8,
   "metadata": {},
   "outputs": [],
   "source": [
    "#Removing Columns\n",
    "df  = df.drop(['ID','molecule_name','conformation_name'],axis = 1)"
   ]
  },
  {
   "cell_type": "code",
   "execution_count": 9,
   "metadata": {},
   "outputs": [
    {
     "data": {
      "text/plain": [
       "167"
      ]
     },
     "execution_count": 9,
     "metadata": {},
     "output_type": "execute_result"
    }
   ],
   "source": [
    "len(df.columns)"
   ]
  },
  {
   "cell_type": "code",
   "execution_count": 10,
   "metadata": {},
   "outputs": [
    {
     "name": "stdout",
     "output_type": "stream",
     "text": [
      "   f1   f2   f3  f4   f5  f6  f7   f8  f9  f10  ...  f158  f159  f160  f161  \\\n",
      "0  46 -108  -60 -69 -117  49  38 -161  -8    5  ...  -308    52    -7    39   \n",
      "1  41 -188 -145  22 -117  -6  57 -171 -39 -100  ...   -59    -2    52   103   \n",
      "2  46 -194 -145  28 -117  73  57 -168 -39  -22  ...  -134  -154    57   143   \n",
      "\n",
      "   f162  f163  f164  f165  f166  class  \n",
      "0   126   156   -50  -112    96      1  \n",
      "1   136   169   -61  -136    79      1  \n",
      "2   142   165   -67  -145    39      1  \n",
      "\n",
      "[3 rows x 167 columns]\n"
     ]
    }
   ],
   "source": [
    "print(df.head(3))"
   ]
  },
  {
   "cell_type": "code",
   "execution_count": 11,
   "metadata": {},
   "outputs": [
    {
     "data": {
      "text/html": [
       "<div>\n",
       "<style scoped>\n",
       "    .dataframe tbody tr th:only-of-type {\n",
       "        vertical-align: middle;\n",
       "    }\n",
       "\n",
       "    .dataframe tbody tr th {\n",
       "        vertical-align: top;\n",
       "    }\n",
       "\n",
       "    .dataframe thead th {\n",
       "        text-align: right;\n",
       "    }\n",
       "</style>\n",
       "<table border=\"1\" class=\"dataframe\">\n",
       "  <thead>\n",
       "    <tr style=\"text-align: right;\">\n",
       "      <th></th>\n",
       "      <th>count</th>\n",
       "      <th>mean</th>\n",
       "      <th>std</th>\n",
       "      <th>min</th>\n",
       "      <th>25%</th>\n",
       "      <th>50%</th>\n",
       "      <th>75%</th>\n",
       "      <th>max</th>\n",
       "    </tr>\n",
       "  </thead>\n",
       "  <tbody>\n",
       "    <tr>\n",
       "      <th>f1</th>\n",
       "      <td>6598.0</td>\n",
       "      <td>58.945135</td>\n",
       "      <td>53.249007</td>\n",
       "      <td>-31.0</td>\n",
       "      <td>37.0</td>\n",
       "      <td>44.0</td>\n",
       "      <td>53.0</td>\n",
       "      <td>292.0</td>\n",
       "    </tr>\n",
       "    <tr>\n",
       "      <th>f2</th>\n",
       "      <td>6598.0</td>\n",
       "      <td>-119.128524</td>\n",
       "      <td>90.813375</td>\n",
       "      <td>-199.0</td>\n",
       "      <td>-193.0</td>\n",
       "      <td>-149.0</td>\n",
       "      <td>-95.0</td>\n",
       "      <td>95.0</td>\n",
       "    </tr>\n",
       "    <tr>\n",
       "      <th>f3</th>\n",
       "      <td>6598.0</td>\n",
       "      <td>-73.146560</td>\n",
       "      <td>67.956235</td>\n",
       "      <td>-167.0</td>\n",
       "      <td>-137.0</td>\n",
       "      <td>-99.0</td>\n",
       "      <td>-19.0</td>\n",
       "      <td>81.0</td>\n",
       "    </tr>\n",
       "    <tr>\n",
       "      <th>f4</th>\n",
       "      <td>6598.0</td>\n",
       "      <td>-0.628372</td>\n",
       "      <td>80.444617</td>\n",
       "      <td>-114.0</td>\n",
       "      <td>-70.0</td>\n",
       "      <td>-25.0</td>\n",
       "      <td>42.0</td>\n",
       "      <td>161.0</td>\n",
       "    </tr>\n",
       "    <tr>\n",
       "      <th>f5</th>\n",
       "      <td>6598.0</td>\n",
       "      <td>-103.533495</td>\n",
       "      <td>64.387559</td>\n",
       "      <td>-118.0</td>\n",
       "      <td>-117.0</td>\n",
       "      <td>-117.0</td>\n",
       "      <td>-116.0</td>\n",
       "      <td>325.0</td>\n",
       "    </tr>\n",
       "    <tr>\n",
       "      <th>...</th>\n",
       "      <td>...</td>\n",
       "      <td>...</td>\n",
       "      <td>...</td>\n",
       "      <td>...</td>\n",
       "      <td>...</td>\n",
       "      <td>...</td>\n",
       "      <td>...</td>\n",
       "      <td>...</td>\n",
       "    </tr>\n",
       "    <tr>\n",
       "      <th>f163</th>\n",
       "      <td>6598.0</td>\n",
       "      <td>201.760230</td>\n",
       "      <td>59.526751</td>\n",
       "      <td>73.0</td>\n",
       "      <td>166.0</td>\n",
       "      <td>191.0</td>\n",
       "      <td>215.0</td>\n",
       "      <td>625.0</td>\n",
       "    </tr>\n",
       "    <tr>\n",
       "      <th>f164</th>\n",
       "      <td>6598.0</td>\n",
       "      <td>-47.488330</td>\n",
       "      <td>55.069365</td>\n",
       "      <td>-289.0</td>\n",
       "      <td>-68.0</td>\n",
       "      <td>-60.0</td>\n",
       "      <td>-45.0</td>\n",
       "      <td>295.0</td>\n",
       "    </tr>\n",
       "    <tr>\n",
       "      <th>f165</th>\n",
       "      <td>6598.0</td>\n",
       "      <td>-150.259927</td>\n",
       "      <td>76.019023</td>\n",
       "      <td>-428.0</td>\n",
       "      <td>-179.0</td>\n",
       "      <td>-150.0</td>\n",
       "      <td>-120.0</td>\n",
       "      <td>168.0</td>\n",
       "    </tr>\n",
       "    <tr>\n",
       "      <th>f166</th>\n",
       "      <td>6598.0</td>\n",
       "      <td>41.770233</td>\n",
       "      <td>94.116085</td>\n",
       "      <td>-471.0</td>\n",
       "      <td>-9.0</td>\n",
       "      <td>27.0</td>\n",
       "      <td>119.0</td>\n",
       "      <td>367.0</td>\n",
       "    </tr>\n",
       "    <tr>\n",
       "      <th>class</th>\n",
       "      <td>6598.0</td>\n",
       "      <td>0.154138</td>\n",
       "      <td>0.361108</td>\n",
       "      <td>0.0</td>\n",
       "      <td>0.0</td>\n",
       "      <td>0.0</td>\n",
       "      <td>0.0</td>\n",
       "      <td>1.0</td>\n",
       "    </tr>\n",
       "  </tbody>\n",
       "</table>\n",
       "<p>167 rows × 8 columns</p>\n",
       "</div>"
      ],
      "text/plain": [
       "        count        mean        std    min    25%    50%    75%    max\n",
       "f1     6598.0   58.945135  53.249007  -31.0   37.0   44.0   53.0  292.0\n",
       "f2     6598.0 -119.128524  90.813375 -199.0 -193.0 -149.0  -95.0   95.0\n",
       "f3     6598.0  -73.146560  67.956235 -167.0 -137.0  -99.0  -19.0   81.0\n",
       "f4     6598.0   -0.628372  80.444617 -114.0  -70.0  -25.0   42.0  161.0\n",
       "f5     6598.0 -103.533495  64.387559 -118.0 -117.0 -117.0 -116.0  325.0\n",
       "...       ...         ...        ...    ...    ...    ...    ...    ...\n",
       "f163   6598.0  201.760230  59.526751   73.0  166.0  191.0  215.0  625.0\n",
       "f164   6598.0  -47.488330  55.069365 -289.0  -68.0  -60.0  -45.0  295.0\n",
       "f165   6598.0 -150.259927  76.019023 -428.0 -179.0 -150.0 -120.0  168.0\n",
       "f166   6598.0   41.770233  94.116085 -471.0   -9.0   27.0  119.0  367.0\n",
       "class  6598.0    0.154138   0.361108    0.0    0.0    0.0    0.0    1.0\n",
       "\n",
       "[167 rows x 8 columns]"
      ]
     },
     "execution_count": 11,
     "metadata": {},
     "output_type": "execute_result"
    }
   ],
   "source": [
    "df.describe().transpose()"
   ]
  },
  {
   "cell_type": "markdown",
   "metadata": {},
   "source": [
    "## Train Test Split and Preprocessing of Data"
   ]
  },
  {
   "cell_type": "code",
   "execution_count": 12,
   "metadata": {},
   "outputs": [],
   "source": [
    "from sklearn.preprocessing import MinMaxScaler, LabelEncoder"
   ]
  },
  {
   "cell_type": "code",
   "execution_count": 13,
   "metadata": {},
   "outputs": [],
   "source": [
    "y  = df['class']\n",
    "X  = df.drop(['class'],axis = 1)"
   ]
  },
  {
   "cell_type": "code",
   "execution_count": 14,
   "metadata": {},
   "outputs": [],
   "source": [
    "#Applying MinMax Scaler for numerical Columns\n",
    "\n",
    "col_name ='f'\n",
    "s_scaler = MinMaxScaler()\n",
    "\n",
    "for i in range(1,167):\n",
    "    vals = X[col_name+str(i)].values\n",
    "    vals = np.reshape(vals,(len(vals),1 ))\n",
    "    X[col_name+str(i)] = s_scaler.fit_transform(vals)"
   ]
  },
  {
   "cell_type": "code",
   "execution_count": 15,
   "metadata": {},
   "outputs": [],
   "source": [
    "#print(X['molecule_name'].head(12))"
   ]
  },
  {
   "cell_type": "code",
   "execution_count": 16,
   "metadata": {},
   "outputs": [],
   "source": [
    "#print(X.head(3))"
   ]
  },
  {
   "cell_type": "code",
   "execution_count": 17,
   "metadata": {},
   "outputs": [],
   "source": [
    "from sklearn.model_selection import train_test_split "
   ]
  },
  {
   "cell_type": "code",
   "execution_count": 18,
   "metadata": {},
   "outputs": [],
   "source": [
    "#print(X.head(2))"
   ]
  },
  {
   "cell_type": "code",
   "execution_count": 19,
   "metadata": {},
   "outputs": [],
   "source": [
    "X_train,X_test,y_train,y_test = train_test_split(X,y,test_size = 0.2,random_state = 42)"
   ]
  },
  {
   "cell_type": "code",
   "execution_count": 20,
   "metadata": {},
   "outputs": [
    {
     "name": "stdout",
     "output_type": "stream",
     "text": [
      "X_train shape :  (5278, 166)\n",
      "X_test  shape :  (1320, 166)\n"
     ]
    }
   ],
   "source": [
    "print(\"X_train shape : \",X_train.shape)\n",
    "print(\"X_test  shape : \",X_test.shape)"
   ]
  },
  {
   "cell_type": "code",
   "execution_count": 21,
   "metadata": {},
   "outputs": [],
   "source": [
    "import tensorflow as tf\n",
    "from tensorflow.keras.callbacks import EarlyStopping"
   ]
  },
  {
   "cell_type": "code",
   "execution_count": 22,
   "metadata": {},
   "outputs": [],
   "source": [
    "#Early Stopping\n",
    "early_stop = EarlyStopping(monitor='val_loss', mode='min', verbose=1, patience=25)"
   ]
  },
  {
   "cell_type": "markdown",
   "metadata": {},
   "source": [
    "## Multi-Layer Perceptron Model"
   ]
  },
  {
   "cell_type": "code",
   "execution_count": 23,
   "metadata": {},
   "outputs": [],
   "source": [
    "model = tf.keras.Sequential()\n",
    "\n",
    "model.add(tf.keras.layers.Dense(168,activation='relu'))\n",
    "model.add(tf.keras.layers.Dense(84,activation='relu'))\n",
    "model.add(tf.keras.layers.Dense(42,activation='relu'))\n",
    "model.add(tf.keras.layers.Dense(21,activation='relu'))\n",
    "\n",
    "\n",
    "model.add(tf.keras.layers.Dense(1,activation='sigmoid'))\n",
    "\n",
    "# For a binary classification problem\n",
    "model.compile(loss='binary_crossentropy', optimizer='adam', metrics=['accuracy'])"
   ]
  },
  {
   "cell_type": "code",
   "execution_count": 24,
   "metadata": {
    "scrolled": true
   },
   "outputs": [
    {
     "name": "stdout",
     "output_type": "stream",
     "text": [
      "Epoch 1/50\n",
      "WARNING:tensorflow:Layer dense is casting an input tensor from dtype float64 to the layer's dtype of float32, which is new behavior in TensorFlow 2.  The layer has dtype float32 because its dtype defaults to floatx.\n",
      "\n",
      "If you intended to run this layer in float32, you can safely ignore this warning. If in doubt, this warning is likely only an issue if you are porting a TensorFlow 1.X model to TensorFlow 2.\n",
      "\n",
      "To change all layers to have dtype float64 by default, call `tf.keras.backend.set_floatx('float64')`. To change just this layer, pass dtype='float64' to the layer constructor. If you are the author of this layer, you can disable autocasting by passing autocast=False to the base Layer constructor.\n",
      "\n",
      "165/165 [==============================] - 0s 2ms/step - loss: 0.3257 - accuracy: 0.8731 - val_loss: 0.2358 - val_accuracy: 0.9129\n",
      "Epoch 2/50\n",
      "165/165 [==============================] - 0s 1ms/step - loss: 0.1847 - accuracy: 0.9307 - val_loss: 0.1646 - val_accuracy: 0.9311\n",
      "Epoch 3/50\n",
      "165/165 [==============================] - 0s 1ms/step - loss: 0.1650 - accuracy: 0.9382 - val_loss: 0.1441 - val_accuracy: 0.9409\n",
      "Epoch 4/50\n",
      "165/165 [==============================] - 0s 1ms/step - loss: 0.1284 - accuracy: 0.9530 - val_loss: 0.1623 - val_accuracy: 0.9288\n",
      "Epoch 5/50\n",
      "165/165 [==============================] - 0s 1ms/step - loss: 0.1189 - accuracy: 0.9559 - val_loss: 0.1040 - val_accuracy: 0.9621\n",
      "Epoch 6/50\n",
      "165/165 [==============================] - 0s 1ms/step - loss: 0.1127 - accuracy: 0.9613 - val_loss: 0.1738 - val_accuracy: 0.9371\n",
      "Epoch 7/50\n",
      "165/165 [==============================] - 0s 1ms/step - loss: 0.1060 - accuracy: 0.9606 - val_loss: 0.0981 - val_accuracy: 0.9614\n",
      "Epoch 8/50\n",
      "165/165 [==============================] - 0s 1ms/step - loss: 0.0970 - accuracy: 0.9629 - val_loss: 0.0930 - val_accuracy: 0.9614\n",
      "Epoch 9/50\n",
      "165/165 [==============================] - 0s 1ms/step - loss: 0.0873 - accuracy: 0.9680 - val_loss: 0.0728 - val_accuracy: 0.9712\n",
      "Epoch 10/50\n",
      "165/165 [==============================] - 0s 1ms/step - loss: 0.0783 - accuracy: 0.9710 - val_loss: 0.0756 - val_accuracy: 0.9659\n",
      "Epoch 11/50\n",
      "165/165 [==============================] - 0s 2ms/step - loss: 0.0782 - accuracy: 0.9725 - val_loss: 0.0628 - val_accuracy: 0.9758\n",
      "Epoch 12/50\n",
      "165/165 [==============================] - 0s 1ms/step - loss: 0.0651 - accuracy: 0.9757 - val_loss: 0.0816 - val_accuracy: 0.9682\n",
      "Epoch 13/50\n",
      "165/165 [==============================] - 0s 1ms/step - loss: 0.0787 - accuracy: 0.9714 - val_loss: 0.1250 - val_accuracy: 0.9576\n",
      "Epoch 14/50\n",
      "165/165 [==============================] - 0s 1ms/step - loss: 0.0694 - accuracy: 0.9757 - val_loss: 0.0634 - val_accuracy: 0.9758\n",
      "Epoch 15/50\n",
      "165/165 [==============================] - 0s 1ms/step - loss: 0.0581 - accuracy: 0.9782 - val_loss: 0.0538 - val_accuracy: 0.9803\n",
      "Epoch 16/50\n",
      "165/165 [==============================] - 0s 1ms/step - loss: 0.0542 - accuracy: 0.9801 - val_loss: 0.0532 - val_accuracy: 0.9788\n",
      "Epoch 17/50\n",
      "165/165 [==============================] - 0s 1ms/step - loss: 0.0548 - accuracy: 0.9790 - val_loss: 0.0750 - val_accuracy: 0.9720\n",
      "Epoch 18/50\n",
      "165/165 [==============================] - 0s 1ms/step - loss: 0.0502 - accuracy: 0.9807 - val_loss: 0.0489 - val_accuracy: 0.9833\n",
      "Epoch 19/50\n",
      "165/165 [==============================] - 0s 1ms/step - loss: 0.0431 - accuracy: 0.9826 - val_loss: 0.0414 - val_accuracy: 0.9833\n",
      "Epoch 20/50\n",
      "165/165 [==============================] - 0s 1ms/step - loss: 0.0654 - accuracy: 0.9782 - val_loss: 0.0590 - val_accuracy: 0.9818\n",
      "Epoch 21/50\n",
      "165/165 [==============================] - 0s 1ms/step - loss: 0.0384 - accuracy: 0.9864 - val_loss: 0.0652 - val_accuracy: 0.9773\n",
      "Epoch 22/50\n",
      "165/165 [==============================] - 0s 2ms/step - loss: 0.0521 - accuracy: 0.9814 - val_loss: 0.0334 - val_accuracy: 0.9856\n",
      "Epoch 23/50\n",
      "165/165 [==============================] - 0s 2ms/step - loss: 0.0536 - accuracy: 0.9782 - val_loss: 0.0674 - val_accuracy: 0.9818\n",
      "Epoch 24/50\n",
      "165/165 [==============================] - 0s 2ms/step - loss: 0.0388 - accuracy: 0.9850 - val_loss: 0.0420 - val_accuracy: 0.9818\n",
      "Epoch 25/50\n",
      "165/165 [==============================] - 0s 2ms/step - loss: 0.0364 - accuracy: 0.9852 - val_loss: 0.0536 - val_accuracy: 0.9765\n",
      "Epoch 26/50\n",
      "165/165 [==============================] - 0s 2ms/step - loss: 0.0457 - accuracy: 0.9828 - val_loss: 0.0629 - val_accuracy: 0.9750\n",
      "Epoch 27/50\n",
      "165/165 [==============================] - 0s 2ms/step - loss: 0.0467 - accuracy: 0.9837 - val_loss: 0.0396 - val_accuracy: 0.9841\n",
      "Epoch 28/50\n",
      "165/165 [==============================] - 0s 1ms/step - loss: 0.0282 - accuracy: 0.9888 - val_loss: 0.0467 - val_accuracy: 0.9833\n",
      "Epoch 29/50\n",
      "165/165 [==============================] - 0s 1ms/step - loss: 0.0219 - accuracy: 0.9926 - val_loss: 0.0308 - val_accuracy: 0.9871\n",
      "Epoch 30/50\n",
      "165/165 [==============================] - 0s 1ms/step - loss: 0.0257 - accuracy: 0.9901 - val_loss: 0.0283 - val_accuracy: 0.9894\n",
      "Epoch 31/50\n",
      "165/165 [==============================] - 0s 2ms/step - loss: 0.0385 - accuracy: 0.9852 - val_loss: 0.0472 - val_accuracy: 0.9773\n",
      "Epoch 32/50\n",
      "165/165 [==============================] - 0s 1ms/step - loss: 0.0182 - accuracy: 0.9941 - val_loss: 0.0280 - val_accuracy: 0.9879\n",
      "Epoch 33/50\n",
      "165/165 [==============================] - 0s 2ms/step - loss: 0.0292 - accuracy: 0.9883 - val_loss: 0.0493 - val_accuracy: 0.9795\n",
      "Epoch 34/50\n",
      "165/165 [==============================] - 0s 1ms/step - loss: 0.0338 - accuracy: 0.9886 - val_loss: 0.0335 - val_accuracy: 0.9879\n",
      "Epoch 35/50\n",
      "165/165 [==============================] - 0s 1ms/step - loss: 0.0236 - accuracy: 0.9917 - val_loss: 0.0183 - val_accuracy: 0.9902\n",
      "Epoch 36/50\n",
      "165/165 [==============================] - 0s 1ms/step - loss: 0.0197 - accuracy: 0.9934 - val_loss: 0.0527 - val_accuracy: 0.9795\n",
      "Epoch 37/50\n",
      "165/165 [==============================] - 0s 1ms/step - loss: 0.0270 - accuracy: 0.9907 - val_loss: 0.0185 - val_accuracy: 0.9924\n",
      "Epoch 38/50\n",
      "165/165 [==============================] - 0s 1ms/step - loss: 0.0230 - accuracy: 0.9922 - val_loss: 0.0375 - val_accuracy: 0.9856\n",
      "Epoch 39/50\n",
      "165/165 [==============================] - 0s 2ms/step - loss: 0.0178 - accuracy: 0.9932 - val_loss: 0.0219 - val_accuracy: 0.9902\n",
      "Epoch 40/50\n",
      "165/165 [==============================] - 0s 2ms/step - loss: 0.0208 - accuracy: 0.9924 - val_loss: 0.0126 - val_accuracy: 0.9955\n",
      "Epoch 41/50\n",
      "165/165 [==============================] - 0s 2ms/step - loss: 0.0154 - accuracy: 0.9949 - val_loss: 0.0224 - val_accuracy: 0.9909\n",
      "Epoch 42/50\n",
      "165/165 [==============================] - 0s 1ms/step - loss: 0.0140 - accuracy: 0.9945 - val_loss: 0.0395 - val_accuracy: 0.9879\n",
      "Epoch 43/50\n",
      "165/165 [==============================] - 0s 1ms/step - loss: 0.0158 - accuracy: 0.9937 - val_loss: 0.0328 - val_accuracy: 0.9894\n",
      "Epoch 44/50\n",
      "165/165 [==============================] - 0s 2ms/step - loss: 0.0236 - accuracy: 0.9920 - val_loss: 0.0788 - val_accuracy: 0.9750\n",
      "Epoch 45/50\n",
      "165/165 [==============================] - 0s 2ms/step - loss: 0.0230 - accuracy: 0.9924 - val_loss: 0.0441 - val_accuracy: 0.9833\n",
      "Epoch 46/50\n",
      "165/165 [==============================] - 0s 2ms/step - loss: 0.0169 - accuracy: 0.9949 - val_loss: 0.0361 - val_accuracy: 0.9871\n",
      "Epoch 47/50\n",
      "165/165 [==============================] - 0s 2ms/step - loss: 0.0178 - accuracy: 0.9926 - val_loss: 0.0357 - val_accuracy: 0.9864\n",
      "Epoch 48/50\n",
      "165/165 [==============================] - 0s 2ms/step - loss: 0.0157 - accuracy: 0.9951 - val_loss: 0.0119 - val_accuracy: 0.9939\n",
      "Epoch 49/50\n",
      "165/165 [==============================] - 0s 1ms/step - loss: 0.0100 - accuracy: 0.9964 - val_loss: 0.0279 - val_accuracy: 0.9886\n",
      "Epoch 50/50\n",
      "165/165 [==============================] - 0s 1ms/step - loss: 0.0222 - accuracy: 0.9930 - val_loss: 0.0393 - val_accuracy: 0.9871\n"
     ]
    },
    {
     "data": {
      "text/plain": [
       "<tensorflow.python.keras.callbacks.History at 0x1cb129ea668>"
      ]
     },
     "execution_count": 24,
     "metadata": {},
     "output_type": "execute_result"
    }
   ],
   "source": [
    "model.fit(x=X_train, \n",
    "          y=y_train, \n",
    "          epochs=50,\n",
    "          validation_data=(X_test, y_test), verbose=1,\n",
    "          callbacks=[early_stop]\n",
    "          )"
   ]
  },
  {
   "cell_type": "code",
   "execution_count": 25,
   "metadata": {},
   "outputs": [],
   "source": [
    "history = pd.DataFrame(model.history.history)"
   ]
  },
  {
   "cell_type": "markdown",
   "metadata": {},
   "source": [
    "## Saving  the Model"
   ]
  },
  {
   "cell_type": "code",
   "execution_count": 26,
   "metadata": {},
   "outputs": [],
   "source": [
    "model.save(\"musk_model.h5\")\n",
    "#model = tf.keras.models.load_model(\"musk_model.h5\")"
   ]
  },
  {
   "cell_type": "markdown",
   "metadata": {},
   "source": [
    "## Loss Curve"
   ]
  },
  {
   "cell_type": "code",
   "execution_count": 27,
   "metadata": {},
   "outputs": [
    {
     "data": {
      "image/png": "[encoded data removed]",
      "text/plain": [
       "<Figure size 432x288 with 1 Axes>"
      ]
     },
     "metadata": {
      "needs_background": "light"
     },
     "output_type": "display_data"
    }
   ],
   "source": [
    "#LOSS CURVE\n",
    "plt.plot(history['loss'])\n",
    "plt.plot(history['val_loss'])\n",
    "\n",
    "plt.ylabel('loss')\n",
    "plt.xlabel('epoch')\n",
    "plt.legend(['train', 'test'], loc='upper left')\n",
    "plt.show()"
   ]
  },
  {
   "cell_type": "markdown",
   "metadata": {},
   "source": [
    "## Accuracy Curve"
   ]
  },
  {
   "cell_type": "code",
   "execution_count": 28,
   "metadata": {},
   "outputs": [
    {
     "data": {
      "image/png": "[encoded data removed]",
      "text/plain": [
       "<Figure size 432x288 with 1 Axes>"
      ]
     },
     "metadata": {
      "needs_background": "light"
     },
     "output_type": "display_data"
    }
   ],
   "source": [
    "#Accuracy Curve\n",
    "\n",
    "plt.plot(history['accuracy'])\n",
    "plt.plot(history['val_accuracy'])\n",
    "\n",
    "plt.ylabel('accuracy')\n",
    "plt.xlabel('epoch')\n",
    "plt.legend(['train', 'test'], loc='upper left')\n",
    "plt.show()"
   ]
  },
  {
   "cell_type": "markdown",
   "metadata": {},
   "source": [
    "## Final Performance Measures"
   ]
  },
  {
   "cell_type": "code",
   "execution_count": 29,
   "metadata": {},
   "outputs": [
    {
     "name": "stdout",
     "output_type": "stream",
     "text": [
      "WARNING:tensorflow:From <ipython-input-29-98b6f461bca6>:2: Sequential.predict_classes (from tensorflow.python.keras.engine.sequential) is deprecated and will be removed after 2021-01-01.\n",
      "Instructions for updating:\n",
      "Please use instead:* `np.argmax(model.predict(x), axis=-1)`,   if your model does multi-class classification   (e.g. if it uses a `softmax` last-layer activation).* `(model.predict(x) > 0.5).astype(\"int32\")`,   if your model does binary classification   (e.g. if it uses a `sigmoid` last-layer activation).\n"
     ]
    }
   ],
   "source": [
    "#predictions\n",
    "preds = model.predict_classes(X_test)"
   ]
  },
  {
   "cell_type": "code",
   "execution_count": 30,
   "metadata": {},
   "outputs": [],
   "source": [
    "from sklearn.metrics import confusion_matrix, accuracy_score,classification_report"
   ]
  },
  {
   "cell_type": "markdown",
   "metadata": {},
   "source": [
    "### Accuracy Score"
   ]
  },
  {
   "cell_type": "code",
   "execution_count": 31,
   "metadata": {},
   "outputs": [
    {
     "name": "stdout",
     "output_type": "stream",
     "text": [
      "Accuracy_Score :  0.987\n"
     ]
    }
   ],
   "source": [
    "print(\"Accuracy_Score : \",accuracy_score(y_test,preds).round(3))"
   ]
  },
  {
   "cell_type": "markdown",
   "metadata": {},
   "source": [
    "### Classification Report"
   ]
  },
  {
   "cell_type": "code",
   "execution_count": 32,
   "metadata": {},
   "outputs": [
    {
     "name": "stdout",
     "output_type": "stream",
     "text": [
      "              precision    recall  f1-score   support\n",
      "\n",
      "           0       0.99      1.00      0.99      1111\n",
      "           1       0.99      0.92      0.96       209\n",
      "\n",
      "    accuracy                           0.99      1320\n",
      "   macro avg       0.99      0.96      0.98      1320\n",
      "weighted avg       0.99      0.99      0.99      1320\n",
      "\n"
     ]
    }
   ],
   "source": [
    "print(classification_report(y_test,preds))"
   ]
  },
  {
   "cell_type": "markdown",
   "metadata": {},
   "source": [
    "### Confusion Matrix"
   ]
  },
  {
   "cell_type": "code",
   "execution_count": 33,
   "metadata": {},
   "outputs": [
    {
     "name": "stdout",
     "output_type": "stream",
     "text": [
      "[[1110    1]\n",
      " [  16  193]]\n"
     ]
    }
   ],
   "source": [
    "print(confusion_matrix(y_test,preds))"
   ]
  }
 ],
 "metadata": {
  "kernelspec": {
   "display_name": "Python 3",
   "language": "python",
   "name": "python3"
  },
  "language_info": {
   "codemirror_mode": {
    "name": "ipython",
    "version": 3
   },
   "file_extension": ".py",
   "mimetype": "text/x-python",
   "name": "python",
   "nbconvert_exporter": "python",
   "pygments_lexer": "ipython3",
   "version": "3.6.12"
  }
 },
 "nbformat": 4,
 "nbformat_minor": 4
}
